{
 "cells": [
  {
   "cell_type": "markdown",
   "metadata": {},
   "source": [
    "# Strings"
   ]
  },
  {
   "cell_type": "markdown",
   "metadata": {},
   "source": [
    "Strings are used in Python to record text information, such as names. Strings in Python are actually a *sequence*, which basically means Python keeps track of every element in the string as a sequence. For example, Python understands the string \"hello' to be a sequence of letters in a specific order. This means we will be able to use indexing to grab particular letters (like the first letter, or the last letter).\n",
    "\n",
    "<B>Note:</B> In most of other languges like C, C++, Java, a single character with in single quotes is treated as char data type value. But in Python we are not having char data type.Hence it is treated as String only.\n",
    "\n",
    "\n",
    "In this lecture we'll learn about the following:\n",
    "\n",
    "    1.) Creating Strings\n",
    "    2.) Printing Strings\n",
    "    3.) String Indexing and Slicing\n",
    "    4.) String Properties\n",
    "    5.) String Methods\n",
    "    6.) Print Formatting"
   ]
  },
  {
   "cell_type": "markdown",
   "metadata": {},
   "source": [
    "## 1.Creating a String\n",
    "To create a string in Python you need to use either single quotes or double quotes. Howerver with the help of single / double qootes , single line strings will be generated ( not multi-line ). For example:"
   ]
  },
  {
   "cell_type": "code",
   "execution_count": null,
   "metadata": {},
   "outputs": [],
   "source": [
    "# Single word\n",
    "'hello'"
   ]
  },
  {
   "cell_type": "code",
   "execution_count": null,
   "metadata": {},
   "outputs": [],
   "source": [
    "# Entire phrase \n",
    "'This is also a string'"
   ]
  },
  {
   "cell_type": "code",
   "execution_count": null,
   "metadata": {},
   "outputs": [],
   "source": [
    "# We can also use double quote\n",
    "\"String built with double quotes\""
   ]
  },
  {
   "cell_type": "code",
   "execution_count": null,
   "metadata": {},
   "outputs": [],
   "source": [
    "# Be careful with quotes!\n",
    "' I'm using single quotes, but this will create an error'"
   ]
  },
  {
   "cell_type": "markdown",
   "metadata": {},
   "source": [
    "The reason for the error above is because the single quote in <code>I'm</code> stopped the string. You can use combinations of double and single quotes to get the complete statement."
   ]
  },
  {
   "cell_type": "code",
   "execution_count": null,
   "metadata": {},
   "outputs": [],
   "source": [
    "\"Now I'm ready to use the single quotes inside a string!\""
   ]
  },
  {
   "cell_type": "markdown",
   "metadata": {},
   "source": [
    "### define multi-line String\n",
    "We can define multi-line String literals by using triple-single or triple-double quotes. However triple quotes can also be used to generate the single line string as well .--For examples :"
   ]
  },
  {
   "cell_type": "code",
   "execution_count": null,
   "metadata": {},
   "outputs": [],
   "source": [
    "print(\"\"\"Sharma \n",
    "Software\n",
    "solutions\"\"\")"
   ]
  },
  {
   "cell_type": "code",
   "execution_count": null,
   "metadata": {},
   "outputs": [],
   "source": [
    "print('''Sharma \n",
    "Software\n",
    "solutions''')"
   ]
  },
  {
   "cell_type": "markdown",
   "metadata": {},
   "source": [
    "### Some More Examples:"
   ]
  },
  {
   "cell_type": "code",
   "execution_count": 1,
   "metadata": {},
   "outputs": [
    {
     "name": "stdout",
     "output_type": "stream",
     "text": [
      "This is ' single quote symbol\n",
      "This is ' single quote symbol\n",
      "This is \" double quotes symbol\n",
      "The \"Python Notes\" by 'DP Sharma' is very helpful\n",
      "The \"Python Notes\" by 'DP Sharma' is very helpful\n"
     ]
    }
   ],
   "source": [
    "## print('This is ' single quote symbol')---- Invalid \n",
    "print('This is \\' single quote symbol')  ###  Valid \n",
    "print(\"This is ' single quote symbol\") ### Valid \n",
    "print('This is \" double quotes symbol') ### Valid \n",
    "## print('The \"Python Notes\" by 'DP Sharma' is very helpful')-----Invalid \n",
    "## print(\"The \"Python Notes\" by 'DP Sharma' is very helpful\")----Invalid \n",
    "print('The \\\"Python Notes\\\" by \\'DP Sharma\\' is very helpful') ### Valid \n",
    "print('''The \"Python Notes\" by 'DP Sharma' is very helpful''') ### Valid "
   ]
  },
  {
   "cell_type": "markdown",
   "metadata": {},
   "source": [
    "Now let's learn about printing strings!"
   ]
  },
  {
   "cell_type": "markdown",
   "metadata": {},
   "source": [
    "## 2.Printing a String\n",
    "\n",
    "Using Jupyter notebook with just a string in a cell will automatically output strings, but the correct way to display strings in your output is by using a print function."
   ]
  },
  {
   "cell_type": "code",
   "execution_count": 2,
   "metadata": {},
   "outputs": [
    {
     "data": {
      "text/plain": [
       "'Hello World'"
      ]
     },
     "execution_count": 2,
     "metadata": {},
     "output_type": "execute_result"
    }
   ],
   "source": [
    "# We can simply declare a string\n",
    "'Hello World'"
   ]
  },
  {
   "cell_type": "code",
   "execution_count": 3,
   "metadata": {},
   "outputs": [
    {
     "data": {
      "text/plain": [
       "'Hello World 2'"
      ]
     },
     "execution_count": 3,
     "metadata": {},
     "output_type": "execute_result"
    }
   ],
   "source": [
    "# Note that we can't output multiple strings this way\n",
    "'Hello World 1'\n",
    "'Hello World 2'"
   ]
  },
  {
   "cell_type": "markdown",
   "metadata": {},
   "source": [
    "We can use a print statement to print a string."
   ]
  },
  {
   "cell_type": "code",
   "execution_count": 4,
   "metadata": {},
   "outputs": [
    {
     "name": "stdout",
     "output_type": "stream",
     "text": [
      "Hello World 1\n",
      "Hello World 2\n",
      "Use \n",
      " to print a new line\n",
      "\n",
      "\n",
      "See what I mean?\n"
     ]
    }
   ],
   "source": [
    "print('Hello World 1')\n",
    "print('Hello World 2')\n",
    "print('Use \\n to print a new line')\n",
    "print('\\n')\n",
    "print('See what I mean?')"
   ]
  },
  {
   "cell_type": "markdown",
   "metadata": {},
   "source": [
    "## String Basics"
   ]
  },
  {
   "cell_type": "markdown",
   "metadata": {},
   "source": [
    "We can also use a function called len() to check the length of a string!"
   ]
  },
  {
   "cell_type": "code",
   "execution_count": 5,
   "metadata": {},
   "outputs": [
    {
     "data": {
      "text/plain": [
       "11"
      ]
     },
     "execution_count": 5,
     "metadata": {},
     "output_type": "execute_result"
    }
   ],
   "source": [
    "len('Hello World')"
   ]
  },
  {
   "cell_type": "markdown",
   "metadata": {},
   "source": [
    "Python's built-in len() function counts all of the characters in the string, including spaces and punctuation."
   ]
  },
  {
   "cell_type": "markdown",
   "metadata": {},
   "source": [
    "## 3.String Indexing and Slicing\n",
    "We know strings are a sequence, i.e We can access characters of a string by using the following ways.\n",
    "\n",
    "    a). By using index \n",
    "    b). By using slice operator. \n",
    "\n",
    "Let's learn how this works.\n",
    "\n",
    "### 3.a By using index\n",
    "\n",
    "In Python, we use brackets <code>[]</code> after an object to call its index. We should also note that indexing starts at 0 for Python also Python supports both +ve and -ve Index.\n",
    "\n",
    "    ####  +ve Index means Left to Right (Forward Direction)\n",
    "    ####  -ve Index means Right to Left (Backward Direction)\n",
    "    \n",
    "Let's create a new object called <code>s</code> and then walk through a few examples of indexing."
   ]
  },
  {
   "cell_type": "code",
   "execution_count": 6,
   "metadata": {},
   "outputs": [],
   "source": [
    "# Assign s as a string\n",
    "s = 'Hello World'"
   ]
  },
  {
   "cell_type": "code",
   "execution_count": 7,
   "metadata": {},
   "outputs": [
    {
     "data": {
      "text/plain": [
       "'Hello World'"
      ]
     },
     "execution_count": 7,
     "metadata": {},
     "output_type": "execute_result"
    }
   ],
   "source": [
    "#Check\n",
    "s"
   ]
  },
  {
   "cell_type": "code",
   "execution_count": 8,
   "metadata": {},
   "outputs": [
    {
     "name": "stdout",
     "output_type": "stream",
     "text": [
      "Hello World\n"
     ]
    }
   ],
   "source": [
    "# Print the object\n",
    "print(s) "
   ]
  },
  {
   "cell_type": "markdown",
   "metadata": {},
   "source": [
    "Let's start indexing!"
   ]
  },
  {
   "cell_type": "code",
   "execution_count": 9,
   "metadata": {},
   "outputs": [
    {
     "data": {
      "text/plain": [
       "'H'"
      ]
     },
     "execution_count": 9,
     "metadata": {},
     "output_type": "execute_result"
    }
   ],
   "source": [
    "# Show first element (in this case a letter)\n",
    "s[0]"
   ]
  },
  {
   "cell_type": "code",
   "execution_count": 10,
   "metadata": {},
   "outputs": [
    {
     "data": {
      "text/plain": [
       "'e'"
      ]
     },
     "execution_count": 10,
     "metadata": {},
     "output_type": "execute_result"
    }
   ],
   "source": [
    "s[1]"
   ]
  },
  {
   "cell_type": "code",
   "execution_count": 11,
   "metadata": {},
   "outputs": [
    {
     "data": {
      "text/plain": [
       "'l'"
      ]
     },
     "execution_count": 11,
     "metadata": {},
     "output_type": "execute_result"
    }
   ],
   "source": [
    "s[2]"
   ]
  },
  {
   "cell_type": "markdown",
   "metadata": {},
   "source": [
    "### Note: If we are trying to access characters of a string with out of range index then we will get error saying: IndexError\n",
    "\n",
    "s[15]  ## here Index Error"
   ]
  },
  {
   "cell_type": "code",
   "execution_count": null,
   "metadata": {},
   "outputs": [],
   "source": [
    "s[15]"
   ]
  },
  {
   "cell_type": "markdown",
   "metadata": {},
   "source": [
    "### 3.b By using slice operator"
   ]
  },
  {
   "cell_type": "markdown",
   "metadata": {},
   "source": [
    "We can use a slice operator <code>:</code> to perform *slicing*, which grabs everything up to a designated point. \n",
    "\n",
    "<B>Syntax:</B> S[begin_index:end_index:step] \n",
    "\n",
    "<B>Begin_Index:</B> From where we have to consider slice (substring) \n",
    "\n",
    "<B>End_Index:</B> We have to terminate the slice (substring) at endindex-1 \n",
    "\n",
    "<B>Step:</B> Incremented Value. By Default step value considered to be +Ve and it is equal to Zero.\n",
    "\n",
    "\n",
    "\n",
    "<B>Behaviour of Slice Operator:</B>  Depending upon the Value of step we can further clssified in two groups:\n",
    "        \n",
    "        --   Positive Value i.e forward Direction\n",
    "        --   Negative Value i.e backward Direction\n",
    "\n",
    "#### In Forward Direction: \n",
    "default value for begin_index: 0\n",
    "\n",
    "default value for end_index: length of string \n",
    "\n",
    "default value for step: +1 \n",
    "#### In Backward Direction: \n",
    "\n",
    "default value for begin_index: -1\n",
    "\n",
    "default value for end_index: -(length of string+1) \n",
    "\n",
    "<B> Note :</B> \n",
    "\n",
    "1.Slice operator returns ,all the characters of the String starting from begin_index  up to char at end_index-1’.\n",
    "\n",
    "2.Slice operator never raises IndexError\n",
    "\n",
    "For example:"
   ]
  },
  {
   "cell_type": "code",
   "execution_count": 13,
   "metadata": {},
   "outputs": [
    {
     "data": {
      "text/plain": [
       "'ello World'"
      ]
     },
     "execution_count": 13,
     "metadata": {},
     "output_type": "execute_result"
    }
   ],
   "source": [
    "# Grab everything past the first term all the way to the length of s which is len(s)\n",
    "s[1:]"
   ]
  },
  {
   "cell_type": "code",
   "execution_count": 12,
   "metadata": {},
   "outputs": [
    {
     "data": {
      "text/plain": [
       "'Hello World'"
      ]
     },
     "execution_count": 12,
     "metadata": {},
     "output_type": "execute_result"
    }
   ],
   "source": [
    "# Note that there is no change to the original s\n",
    "s"
   ]
  },
  {
   "cell_type": "code",
   "execution_count": 14,
   "metadata": {},
   "outputs": [
    {
     "data": {
      "text/plain": [
       "'Hel'"
      ]
     },
     "execution_count": 14,
     "metadata": {},
     "output_type": "execute_result"
    }
   ],
   "source": [
    "# Grab everything UP TO the 3rd index\n",
    "s[:3]"
   ]
  },
  {
   "cell_type": "markdown",
   "metadata": {},
   "source": [
    "Note the above slicing. Here we're telling Python to grab everything from 0 up to 3. It doesn't include the 3rd index. You'll notice this a lot in Python, where statements and are usually in the context of \"up to, but not including\"."
   ]
  },
  {
   "cell_type": "code",
   "execution_count": 15,
   "metadata": {},
   "outputs": [
    {
     "data": {
      "text/plain": [
       "'Hello World'"
      ]
     },
     "execution_count": 15,
     "metadata": {},
     "output_type": "execute_result"
    }
   ],
   "source": [
    "#Everything\n",
    "s[:]"
   ]
  },
  {
   "cell_type": "markdown",
   "metadata": {},
   "source": [
    "We can also use negative indexing to go backwards."
   ]
  },
  {
   "cell_type": "code",
   "execution_count": 16,
   "metadata": {},
   "outputs": [
    {
     "data": {
      "text/plain": [
       "'d'"
      ]
     },
     "execution_count": 16,
     "metadata": {},
     "output_type": "execute_result"
    }
   ],
   "source": [
    "# Last letter (one index behind 0 so it loops back around)\n",
    "s[-1]"
   ]
  },
  {
   "cell_type": "code",
   "execution_count": 17,
   "metadata": {},
   "outputs": [
    {
     "data": {
      "text/plain": [
       "'Hello Worl'"
      ]
     },
     "execution_count": 17,
     "metadata": {},
     "output_type": "execute_result"
    }
   ],
   "source": [
    "# Grab everything but the last letter\n",
    "s[:-1]"
   ]
  },
  {
   "cell_type": "markdown",
   "metadata": {},
   "source": [
    "We can also use index and slice notation to grab elements of a sequence by a specified step size (the default is 1). For instance we can use two colons in a row and then a number specifying the frequency to grab elements. For example:"
   ]
  },
  {
   "cell_type": "code",
   "execution_count": null,
   "metadata": {},
   "outputs": [],
   "source": [
    "# Grab everything, but go in steps size of 1\n",
    "s[::1]"
   ]
  },
  {
   "cell_type": "code",
   "execution_count": null,
   "metadata": {},
   "outputs": [],
   "source": [
    "# Grab everything, but go in step sizes of 2\n",
    "s[::2]"
   ]
  },
  {
   "cell_type": "code",
   "execution_count": null,
   "metadata": {},
   "outputs": [],
   "source": [
    "# We can use this to print a string backwards\n",
    "s[::-1]"
   ]
  },
  {
   "cell_type": "code",
   "execution_count": 3,
   "metadata": {},
   "outputs": [
    {
     "data": {
      "text/plain": [
       "'0'"
      ]
     },
     "execution_count": 3,
     "metadata": {},
     "output_type": "execute_result"
    }
   ],
   "source": [
    "s = '12345678910' \n",
    "# print(len(s))\n",
    "#print(s[5:0:1])\n",
    "#s[::-1]\n",
    "s[10:-2:-1]\n",
    "s[10000:2:-1]\n"
   ]
  },
  {
   "cell_type": "code",
   "execution_count": 4,
   "metadata": {},
   "outputs": [
    {
     "ename": "TypeError",
     "evalue": "'str' object does not support item assignment",
     "output_type": "error",
     "traceback": [
      "\u001b[1;31m---------------------------------------------------------------------------\u001b[0m",
      "\u001b[1;31mTypeError\u001b[0m                                 Traceback (most recent call last)",
      "\u001b[1;32m<ipython-input-4-a811be033038>\u001b[0m in \u001b[0;36m<module>\u001b[1;34m\u001b[0m\n\u001b[0;32m      5\u001b[0m \u001b[1;31m# s[3:7:-1]= ''\u001b[0m\u001b[1;33m\u001b[0m\u001b[1;33m\u001b[0m\u001b[1;33m\u001b[0m\u001b[0m\n\u001b[0;32m      6\u001b[0m \u001b[1;31m# s[7:4:-1]='hgf'\u001b[0m\u001b[1;33m\u001b[0m\u001b[1;33m\u001b[0m\u001b[1;33m\u001b[0m\u001b[0m\n\u001b[1;32m----> 7\u001b[1;33m \u001b[0ms\u001b[0m\u001b[1;33m[\u001b[0m\u001b[1;36m0\u001b[0m\u001b[1;33m:\u001b[0m\u001b[1;36m10000\u001b[0m\u001b[1;33m:\u001b[0m\u001b[1;36m1\u001b[0m\u001b[1;33m]\u001b[0m\u001b[1;33m=\u001b[0m\u001b[1;34m'abcdefghij'\u001b[0m\u001b[1;33m\u001b[0m\u001b[1;33m\u001b[0m\u001b[0m\n\u001b[0m\u001b[0;32m      8\u001b[0m \u001b[1;31m# s[-4:1:-1]='gfedc'\u001b[0m\u001b[1;33m\u001b[0m\u001b[1;33m\u001b[0m\u001b[1;33m\u001b[0m\u001b[0m\n\u001b[0;32m      9\u001b[0m \u001b[1;31m# s[-4:1:-2]='gec'\u001b[0m\u001b[1;33m\u001b[0m\u001b[1;33m\u001b[0m\u001b[1;33m\u001b[0m\u001b[0m\n",
      "\u001b[1;31mTypeError\u001b[0m: 'str' object does not support item assignment"
     ]
    }
   ],
   "source": [
    "s = 'abcdefghij' \n",
    "# s[1:6:2]='bdf' \n",
    "# s[::1]='abcdefghij' \n",
    "# s[::-1]='jihgfedcba' \n",
    "# s[3:7:-1]= '' \n",
    "# s[7:4:-1]='hgf' \n",
    "#s[0:10000:1]='abcdefghij' \n",
    "# s[-4:1:-1]='gfedc' \n",
    "# s[-4:1:-2]='gec' \n",
    "# s[5:0:1]='' \n",
    "# #s[9:0:0]=ValueError: slice step cannot be zero \n",
    "# s[0:-10:-1]='' \n",
    "# s[0:-11:-1]='a' \n",
    "# s[0:0:1]='' \n",
    "# s[0:-9:-2]='' \n",
    "# s[-5:-9:-2]='fd' \n",
    "s[10:-2:-1]\n",
    "# s[10000:2:-1]='jihgfed' "
   ]
  },
  {
   "cell_type": "code",
   "execution_count": null,
   "metadata": {},
   "outputs": [],
   "source": [
    "s[1:6:2],s[::1],s[::-1],s[3:7:-1],s[7:4:-1],s[0:10000:1],s[-4:1:-1],s[-4:1:-2],s[5:0:1],s[0:-10:-1],s[0:-11:-1],s[0:0:1],s[0:-9:-2]\n",
    "s[0:-9:-2],s[-5:-9:-2],s[10:-1:-1],s[10000:2:-1]"
   ]
  },
  {
   "cell_type": "markdown",
   "metadata": {
    "collapsed": true
   },
   "source": [
    "## 4.String Properties\n",
    "\n",
    "### 4.a immutability\n",
    "It's important to note that strings have an important property known as *immutability*. This means that once a string is created, the elements within it can not be changed or replaced. For example:"
   ]
  },
  {
   "cell_type": "code",
   "execution_count": null,
   "metadata": {},
   "outputs": [],
   "source": [
    "s = 'Hello World'\n",
    "s"
   ]
  },
  {
   "cell_type": "code",
   "execution_count": null,
   "metadata": {},
   "outputs": [],
   "source": [
    "# Let's try to change the first letter to 'x'\n",
    "s[0] = 'x'"
   ]
  },
  {
   "cell_type": "markdown",
   "metadata": {},
   "source": [
    "Notice how the error tells us directly what we can't do, change the item assignment!\n",
    "\n"
   ]
  },
  {
   "cell_type": "code",
   "execution_count": null,
   "metadata": {},
   "outputs": [],
   "source": [
    "s"
   ]
  },
  {
   "cell_type": "markdown",
   "metadata": {},
   "source": [
    "### 4.b Mathematical Operators for String:\n",
    "\n",
    "We can apply the following mathematical operators for Strings.\n",
    "\n",
    "        1) + operator for concatenation \n",
    "\n",
    "        2) * operator for repetition\n",
    "        \n",
    "<B> Note: </B> \n",
    "\n",
    "        1) To use + operator for Strings, compulsory both arguments should be str type.\n",
    "        \n",
    "        2) To use * operator for Strings, compulsory one argument should be str and other argument should be int."
   ]
  },
  {
   "cell_type": "code",
   "execution_count": 1,
   "metadata": {},
   "outputs": [
    {
     "name": "stdout",
     "output_type": "stream",
     "text": [
      "DPSharma\n",
      "DPSharmaDPSharma\n",
      "DPSharmaDPSharma\n"
     ]
    }
   ],
   "source": [
    "print(\"DP\"+\"Sharma\")\n",
    "print(\"DPSharma\"*2)  # order can be a different \n",
    "\"DPSharma\"*2\n",
    "print(2*\"DPSharma\")"
   ]
  },
  {
   "cell_type": "markdown",
   "metadata": {},
   "source": [
    "### 4.c Checking Membership:\n",
    "We can check whether the character or string is the member of another string or not by using **in** and **not in** operators"
   ]
  },
  {
   "cell_type": "code",
   "execution_count": 2,
   "metadata": {},
   "outputs": [
    {
     "name": "stdout",
     "output_type": "stream",
     "text": [
      "True\n",
      "False\n",
      "False\n",
      "True\n"
     ]
    }
   ],
   "source": [
    "s = 'dP Sharma'\n",
    "print('d' in s)\n",
    "print('d' not in s)\n",
    "print('z' in s)\n",
    "print('z' not in s)"
   ]
  },
  {
   "cell_type": "markdown",
   "metadata": {},
   "source": [
    "### 4.d Comparison of Strings:\n",
    "\n",
    "        1) We can use comparison operators (<, <=, >, >=) and equality operators (==, !=) for strings.\n",
    "\n",
    "        2) Comparison will be performed based on alphabetical order.\n"
   ]
  },
  {
   "cell_type": "code",
   "execution_count": 3,
   "metadata": {},
   "outputs": [
    {
     "name": "stdout",
     "output_type": "stream",
     "text": [
      "Enter first string:hello\n",
      "Enter Second string:dpsharma\n",
      "First String is greater than Second String\n"
     ]
    }
   ],
   "source": [
    "s1=input(\"Enter first string:\") \n",
    "s2=input(\"Enter Second string:\") \n",
    "if s1==s2:\n",
    "    print(\"Both strings are equal\") \n",
    "elif s1<s2:\n",
    "    print(\"First String is less than Second String\") \n",
    "else:\n",
    "    print(\"First String is greater than Second String\") "
   ]
  },
  {
   "cell_type": "markdown",
   "metadata": {},
   "source": [
    "## 5.Basic Built-in String methods\n",
    "\n",
    "Objects in Python usually have built-in methods. These methods are functions inside the object (we will learn about these in much more depth later) that can perform actions or commands on the object itself.\n",
    "\n",
    "We call methods with a period and then the method name. Methods are in the form:\n",
    "\n",
    "object.method(parameters)\n",
    "\n",
    "Where parameters are extra arguments we can pass into the method. Don't worry if the details don't make 100% sense right now. Later on we will be creating our own objects and functions!\n",
    "\n",
    "Here are some examples of built-in methods in strings:"
   ]
  },
  {
   "cell_type": "markdown",
   "metadata": {},
   "source": [
    "<li>len()</li>                     \n",
    "<li>rstrip()</li>                  \n",
    "<li>lstrip()</li>\n",
    "<li>strip()</li>\n",
    "<li>find()</li>\n",
    "<li>index()</li>\n",
    "<li>rfind()</li>\n",
    "<li>rindex()</li>\n",
    "<li>count()</li>\n",
    "<li>replace()</li>\n",
    "<li>split()</li>\n",
    "<li>join()</li>\n",
    "<li>upper()</li>\n",
    "<li>lower()</li>\n",
    "<li>swapcase()</li>\n",
    "<li>title()</li>\n",
    "<li>capitalize()</li>\n",
    "<li>startswith()</li>\n",
    "<li>endswith()</li>\n",
    "<li>isalnum()</li>\n",
    "<li>isalpha()</li>\n",
    "<li>isdigit()</li>\n",
    "<li>islower()</li>\n",
    "<li>isuper()</li>\n",
    "<li>istitle()</li>\n",
    "<li>isspace()</li>\n",
    "<li>format()</li>\n",
    "<li>sorted()</li>\n",
    "<li>reversed()</li>\n",
    "<li>ord()</li>\n",
    "<li>rjust()</li>\n",
    "<li>ljust()</li>\n",
    "<li>center()</li>"
   ]
  },
  {
   "cell_type": "code",
   "execution_count": null,
   "metadata": {},
   "outputs": [],
   "source": [
    "# vWe can use len() function to find the number of characters present in the string.\n",
    "string='DP Sharma'\n",
    "print(len(string))"
   ]
  },
  {
   "cell_type": "code",
   "execution_count": 3,
   "metadata": {},
   "outputs": [
    {
     "name": "stdout",
     "output_type": "stream",
     "text": [
      "this is good \n",
      "   this is good \n",
      "his is good \n",
      "www.programiz.com/\n"
     ]
    }
   ],
   "source": [
    "# The syntax of lstrip() is:\n",
    "\n",
    "# string.lstrip([chars])\n",
    "# chars (optional) - a string specifying the set of characters to be removed.\n",
    "# If the chars argument is not provided, all leading whitespaces are removed from the string.\n",
    "# otherwise All combinations of characters in the chars argument are removed from the left of the string until first mismatch.\n",
    "\n",
    "random_string = '   this is good '\n",
    "\n",
    "# Leading whitepsace are removed\n",
    "print(random_string.lstrip())\n",
    "\n",
    "# Argument doesn't contain space\n",
    "# No characters are removed.\n",
    "print(random_string.lstrip('sti'))\n",
    "\n",
    "print(random_string.lstrip('s ti'))\n",
    "\n",
    "website = 'https://www.programiz.com/'\n",
    "print(website.lstrip('htps:/.'))"
   ]
  },
  {
   "cell_type": "code",
   "execution_count": 4,
   "metadata": {},
   "outputs": [
    {
     "name": "stdout",
     "output_type": "stream",
     "text": [
      " this is good\n",
      " this is good\n",
      " this is g\n",
      "www.programiz.co\n"
     ]
    }
   ],
   "source": [
    "# The syntax of rstrip() is:\n",
    "\n",
    "# string.rstrip([chars])\n",
    "# chars (optional) - a string specifying the set of characters to be removed.\n",
    "# If the chars argument is not provided, all whitspaces on the right are removed from the string.\n",
    "# otherwise, All combinations of characters in the chars argument are removed from the right of the string until first mismatch.\n",
    "\n",
    "random_string = ' this is good   '\n",
    "\n",
    "# Leading whitepsace are removed\n",
    "print(random_string.rstrip())\n",
    "\n",
    "# Argument doesn't contain 'd'\n",
    "# No characters are removed.\n",
    "print(random_string.rstrip('si oo'))\n",
    "\n",
    "print(random_string.rstrip('sid oo'))\n",
    "\n",
    "website = 'www.programiz.com/'\n",
    "print(website.rstrip('m/.'))"
   ]
  },
  {
   "cell_type": "code",
   "execution_count": null,
   "metadata": {},
   "outputs": [],
   "source": [
    "# The syntax of strip() is:\n",
    "\n",
    "# string.strip([chars])\n",
    "# chars (optional) - a string specifying the set of characters to be removed.\n",
    "# If the chars argument is not provided, all leading and trailing whitespaces are removed from the string.\n",
    "# otherwise :\n",
    "#     When the combination of characters in the chars argument mismatches the character of the string in the left, it stops removing the leading characters.\n",
    "#     Similarly, when the combination of characters in the chars argument mismatches the character of the string in the right, it stops removing the trailing characters.\n",
    "\n",
    "string = ' xoxo love xoxo   '\n",
    "\n",
    "# Leading whitepsace are removed\n",
    "print(string.strip())\n",
    "\n",
    "print(string.strip(' xoxoe'))\n",
    "\n",
    "# Argument doesn't contain space\n",
    "# No characters are removed.\n",
    "print(string.strip('sti'))\n",
    "\n",
    "string = 'android is awesome'\n",
    "print(string.strip('an'))"
   ]
  },
  {
   "cell_type": "code",
   "execution_count": 5,
   "metadata": {},
   "outputs": [
    {
     "name": "stdout",
     "output_type": "stream",
     "text": [
      "9\n",
      "9\n",
      "21\n",
      "21\n",
      "-1\n"
     ]
    },
    {
     "ename": "ValueError",
     "evalue": "substring not found",
     "output_type": "error",
     "traceback": [
      "\u001b[1;31m---------------------------------------------------------------------------\u001b[0m",
      "\u001b[1;31mValueError\u001b[0m                                Traceback (most recent call last)",
      "\u001b[1;32m<ipython-input-5-48d49034f2e2>\u001b[0m in \u001b[0;36m<module>\u001b[1;34m\u001b[0m\n\u001b[0;32m     17\u001b[0m \u001b[0mprint\u001b[0m\u001b[1;33m(\u001b[0m\u001b[0ms\u001b[0m\u001b[1;33m.\u001b[0m\u001b[0mrindex\u001b[0m\u001b[1;33m(\u001b[0m\u001b[1;34m\"r\"\u001b[0m\u001b[1;33m)\u001b[0m\u001b[1;33m)\u001b[0m\u001b[1;31m#21\u001b[0m\u001b[1;33m\u001b[0m\u001b[1;33m\u001b[0m\u001b[0m\n\u001b[0;32m     18\u001b[0m \u001b[0mprint\u001b[0m\u001b[1;33m(\u001b[0m\u001b[0ms\u001b[0m\u001b[1;33m.\u001b[0m\u001b[0mfind\u001b[0m\u001b[1;33m(\u001b[0m\u001b[1;34m\"Java\"\u001b[0m\u001b[1;33m)\u001b[0m\u001b[1;33m)\u001b[0m \u001b[1;31m# -1\u001b[0m\u001b[1;33m\u001b[0m\u001b[1;33m\u001b[0m\u001b[0m\n\u001b[1;32m---> 19\u001b[1;33m \u001b[0mprint\u001b[0m\u001b[1;33m(\u001b[0m\u001b[0ms\u001b[0m\u001b[1;33m.\u001b[0m\u001b[0mindex\u001b[0m\u001b[1;33m(\u001b[0m\u001b[1;34m\"Java\"\u001b[0m\u001b[1;33m)\u001b[0m\u001b[1;33m)\u001b[0m \u001b[1;31m# -1\u001b[0m\u001b[1;33m\u001b[0m\u001b[1;33m\u001b[0m\u001b[0m\n\u001b[0m",
      "\u001b[1;31mValueError\u001b[0m: substring not found"
     ]
    }
   ],
   "source": [
    "# Finding Substrings:\n",
    "#     We can use the following 4 methods:\n",
    "#         For forward direction: 1) find() 2) index()\n",
    "#         For backward direction: 1) rfind() 2) rindex()   Here prefix r repersent the reverse.\n",
    "\n",
    "### index() method is exactly same as find() method except that if the specified substring \n",
    "### is not available then we will get ValueError. However if the specified substring is not available \n",
    "### for find()  then it return -1.\n",
    "\n",
    "### str.find(sub[, start[, end]] )\n",
    "### str.rfind(sub[, start[, end]] )\n",
    "\n",
    "s=\"Learning Python is very easy\" \n",
    "print(s.find(\"Python\")) #9 \n",
    "print(s.index(\"Python\")) #9 \n",
    "print(s.rfind(\"r\"))#21 \n",
    "print(s.rindex(\"r\"))#21 \n",
    "print(s.find(\"Java\")) # -1 \n",
    "print(s.index(\"Java\")) # -1 \n"
   ]
  },
  {
   "cell_type": "code",
   "execution_count": 5,
   "metadata": {},
   "outputs": [
    {
     "name": "stdout",
     "output_type": "stream",
     "text": [
      "6\n",
      "4\n",
      "2\n"
     ]
    }
   ],
   "source": [
    "# We can find the number of occurrences of substring present in the given string by using count() method. \n",
    "# 1) s.count(substring)    It will search through out the string. \n",
    "# 2) s.count(substring, bEgin, end)    It will search from bEgin index to end-1 index. \n",
    "s=\"abcabcabcabcadda\"\n",
    "print(s.count('a'))\n",
    "print(s.count('ab'))\n",
    "print(s.count('a',3,7))"
   ]
  },
  {
   "cell_type": "markdown",
   "metadata": {},
   "source": [
    "### String Objects are Immutable then how we can change the\n",
    "#### Content by using replace() Method \n",
    "<ul><li>Once we creates string object, we cannot change the content.This non changeable behaviour is nothing but immutability. If we are trying to change the content by using any method, then with those changes, a new object will be created and changes won't be happend in existing object.</li> \n",
    "<li>Hence with replace() method, also a new object got created but existing object won't be changed. </li>\n"
   ]
  },
  {
   "cell_type": "code",
   "execution_count": 6,
   "metadata": {},
   "outputs": [
    {
     "name": "stdout",
     "output_type": "stream",
     "text": [
      "abab is available at : 1564263753008\n",
      "bbbb is available at : 1564263832432\n"
     ]
    }
   ],
   "source": [
    "# Replcae mrthod\n",
    "s = \"abab\" \n",
    "s1 = s.replace(\"a\",\"b\") \n",
    "print(s,\"is available at :\",id(s)) \n",
    "print(s1,\"is available at :\",id(s1))"
   ]
  },
  {
   "cell_type": "code",
   "execution_count": 10,
   "metadata": {},
   "outputs": [
    {
     "name": "stdout",
     "output_type": "stream",
     "text": [
      "hurt, hurt heart\n",
      "Let it be, don't let it be, don't let it be, don't let it be\n"
     ]
    }
   ],
   "source": [
    "# replace() parameters\n",
    "# The replace() method can take maximum of 3 parameters:\n",
    "\n",
    "# old - old substring you want to replace\n",
    "# new - new substring which would replace the old substring\n",
    "# count (optional) - the number of times you want to replace the old substring with the new substring\n",
    "# If count is not specified, replace() method replaces all occurrences of the old substring with the new substring.\n",
    "\n",
    "song = 'cold, cold heart'\n",
    "print (song.replace('cold', 'hurt'))\n",
    "\n",
    "song = 'Let it be, let it be, let it be, let it be'\n",
    "\n",
    "'''only two occurences of 'let' is replaced'''\n",
    "print(song.replace('let', \"don't let\"))"
   ]
  },
  {
   "cell_type": "code",
   "execution_count": 11,
   "metadata": {},
   "outputs": [
    {
     "name": "stdout",
     "output_type": "stream",
     "text": [
      "Man\n",
      "pal Un\n",
      "vers\n",
      "ty Ja\n",
      "pur\n"
     ]
    },
    {
     "data": {
      "text/plain": [
       "['Man', 'pal Un', 'vers', 'ty Ja', 'pur']"
      ]
     },
     "execution_count": 11,
     "metadata": {},
     "output_type": "execute_result"
    }
   ],
   "source": [
    "# Splitting of Strings: \n",
    "# We can split the given string according to specified seperator by using split() method. \n",
    "# l = s.split(seperator) \n",
    "# The default seperator is space. The return type of split() method is List. \n",
    "\n",
    "s=\"Manipal University Jaipur\" \n",
    "l=s.split('i') \n",
    "# print(l)\n",
    "for x in l: \n",
    "    print(x) \n",
    "l"
   ]
  },
  {
   "cell_type": "code",
   "execution_count": 11,
   "metadata": {},
   "outputs": [
    {
     "name": "stdout",
     "output_type": "stream",
     "text": [
      "1## 2## 3## 4\n",
      "1## 2## 3## 4\n",
      "s1.join(s2): 1abc2abc3\n",
      "s2.join(s1): a123b123c\n"
     ]
    }
   ],
   "source": [
    "# The join() is a string method which returns a string concatenated with the elements of an iterable.\n",
    "# The syntax of join() is:\n",
    "\n",
    "# string.join(iterable)\n",
    "\n",
    "numList = ['1', '2', '3', '4']\n",
    "\n",
    "seperator = '## '\n",
    "print(seperator.join(numList))\n",
    "\n",
    "numTuple = ('1', '2', '3', '4')\n",
    "print(seperator.join(numTuple))\n",
    "\n",
    "s1 = 'abc'\n",
    "s2 = '123'\n",
    "\n",
    "\"\"\" Each character of s2 is concatenated to the front of s1\"\"\" \n",
    "print('s1.join(s2):', s1.join(s2))\n",
    "\n",
    "\"\"\" Each character of s1 is concatenated to the front of s2\"\"\" \n",
    "print('s2.join(s1):', s2.join(s1))"
   ]
  },
  {
   "cell_type": "code",
   "execution_count": 1,
   "metadata": {},
   "outputs": [
    {
     "name": "stdout",
     "output_type": "stream",
     "text": [
      "LEARNING PYTHON IS VERY EASY\n",
      "learning python is very easy\n",
      "LEARNING pYTHON IS VERY eASY\n",
      "Learning Python Is Very Easy\n",
      "Learning python is very easy\n"
     ]
    }
   ],
   "source": [
    "# Changing Case of a String: \n",
    "# We can change case of a string by using the following 4 methods. \n",
    "# upper() To convert all characters to upper case \n",
    "# lower() To convert all characters to lower case \n",
    "# swapcase() Converts all lower case characters to upper case and all upper case characters to lower case \n",
    "# title() To convert all character to title case. i.e first character in every word should be upper case \n",
    "# and all remaining characters should be in lower case. \n",
    "# capitalize() Only first character of first word will be converted to upper case and all remaining characters \n",
    "# can be converted to lower case \n",
    "\n",
    "\n",
    "s = 'learning Python is very Easy' \n",
    "print(s.upper()) \n",
    "print(s.lower()) \n",
    "print(s.swapcase()) \n",
    "print(s.title()) \n",
    "print(s.capitalize()) \n",
    "\n"
   ]
  },
  {
   "cell_type": "code",
   "execution_count": 2,
   "metadata": {},
   "outputs": [
    {
     "name": "stdout",
     "output_type": "stream",
     "text": [
      "True\n",
      "False\n",
      "True\n"
     ]
    }
   ],
   "source": [
    "# Checking Starting and Ending Part of the String: \n",
    "# Python contains the following methods for this purpose \n",
    "# s.startswith(substring) \n",
    "# s.endswith(substring) \n",
    "\n",
    "\n",
    "s = 'learning Python is very easy' \n",
    "print(s.startswith('learning')) \n",
    "print(s.endswith('learning')) \n",
    "print(s.endswith('easy')) \n",
    "\n"
   ]
  },
  {
   "cell_type": "code",
   "execution_count": 4,
   "metadata": {},
   "outputs": [
    {
     "name": "stdout",
     "output_type": "stream",
     "text": [
      "True\n",
      "False\n",
      "True\n",
      "False\n",
      "True\n",
      "True\n",
      "False\n",
      "True\n",
      "True\n",
      "False\n",
      "True\n",
      "True\n"
     ]
    }
   ],
   "source": [
    "# To Check Type of Characters Present in a String: \n",
    "# Python contains the following methods for this purpose. \n",
    "# isalnum(): Returns True if all characters are alphanumeric( a to z , A to Z ,0 to9 ) \n",
    "# isalpha(): Returns True if all characters are only alphabet symbols(a to z,A to Z) \n",
    "# isdigit(): Returns True if all characters are digits only( 0 to 9) \n",
    "# islower(): Returns True if all characters are lower case alphabet symbols \n",
    "# isupper(): Returns True if all characters are upper case aplhabet symbols \n",
    "# istitle(): Returns True if string is in title case \n",
    "# isspace(): Returns True if string contains only spaces \n",
    "\n",
    "\n",
    "print('Dpsharma786'.isalnum()) \n",
    "print('dpsharma786'.isalpha()) \n",
    "print('dpsharma'.isalpha())  \n",
    "print('dpsharma'.isdigit()) \n",
    "print('786786'.isdigit())  \n",
    "print('abc'.islower())  \n",
    "print('Abc'.islower())  \n",
    "print('abc123'.islower())  \n",
    "print('ABC'.isupper()) \n",
    "print('Learning python is Easy'.istitle()) \n",
    "print('Learning Python Is Easy'.istitle())  \n",
    "print(' '.isspace())  \n",
    "\n"
   ]
  },
  {
   "cell_type": "markdown",
   "metadata": {},
   "source": [
    "**Sorted() function in Python**\n",
    "\n",
    "Sorting any sequence is very easy in Python using built-in method sorted() which does all the hard work for you.\n",
    "Sorted() sorts any sequence (list, tuple) and always returns a list with the elements in sorted manner, without modifying the original sequence.\n",
    "\n",
    "Syntax : sorted(iterable, key, reverse)   i.e sorted(iterable[, key][, reverse])\n",
    "\n",
    "Parameters : sorted takes three parameters from which two are optional.\n",
    "\n",
    "Iterable : sequence (list, tuple, string) or collection (dictionary, set, frozenset) or any other iterator that needs to be sorted.\n",
    "Key(optional) : A function that would server as a key or a basis of sort comparison.\n",
    "Reverse(optional) : If set true, then the iterable would be sorted in reverse (descending) order, by default it is set as false."
   ]
  },
  {
   "cell_type": "code",
   "execution_count": 9,
   "metadata": {},
   "outputs": [
    {
     "name": "stdout",
     "output_type": "stream",
     "text": [
      "Normal sort : ['aaa', 'b', 'cccc', 'dd']\n",
      "Sort with len : ['b', 'dd', 'aaa', 'cccc']\n",
      "Sort with len : ['cccc', 'aaa', 'dd', 'b']\n"
     ]
    }
   ],
   "source": [
    "L = [\"cccc\", \"b\", \"dd\", \"aaa\"] \n",
    "\n",
    "print (\"Normal sort :\", sorted(L) )\n",
    "\n",
    "print (\"Sort with len :\", sorted(L, key = len) )  #  the length of strings will be sorted. Which means that the strings would \n",
    "                                                  # be sorted based on their lengths instead\n",
    "\n",
    "print (\"Sort with len :\", sorted(L, key = len , reverse = True ))"
   ]
  },
  {
   "cell_type": "code",
   "execution_count": 10,
   "metadata": {},
   "outputs": [
    {
     "name": "stdout",
     "output_type": "stream",
     "text": [
      "Normal sort : [3, 7, 11, 15]\n",
      "Sorted with key: [7, 15, 3, 11]\n"
     ]
    }
   ],
   "source": [
    "# Sort a list of integers based on \n",
    "# their remainder on dividing from 7 \n",
    "\n",
    "def func(x): \n",
    "\treturn x % 7\n",
    "\n",
    "L = [15, 3, 11, 7] \n",
    "\n",
    "print (\"Normal sort :\", sorted(L)) \n",
    "print (\"Sorted with key:\", sorted(L, key = func)) \n"
   ]
  },
  {
   "cell_type": "code",
   "execution_count": 11,
   "metadata": {},
   "outputs": [
    {
     "name": "stdout",
     "output_type": "stream",
     "text": [
      "['s', 'k', 'e', 'e', 'g']\n",
      "['s', 'k', 'e', 'e', 'g']\n",
      "[4, 3, 2, 1]\n",
      "[5, 3, 4, 2, 1]\n"
     ]
    }
   ],
   "source": [
    "# reversed() function\n",
    "# reversed() method returns an iterator that accesses the given sequence in the reverse order.\n",
    "\n",
    "# Syntax :\n",
    "\n",
    "# reversed(sequ)\n",
    "\n",
    "# Python code to demonstrate working of  reversed() \n",
    "\n",
    "# For string \n",
    "seqString = 'geeks'\n",
    "print(list(reversed(seqString))) \n",
    "\n",
    "# For tuple \n",
    "seqTuple = ('g', 'e', 'e', 'k', 's') \n",
    "print(list(reversed(seqTuple))) \n",
    "\n",
    "# For range \n",
    "seqRange = range(1, 5) \n",
    "print(list(reversed(seqRange))) \n",
    "\n",
    "# For list \n",
    "seqList = [1, 2, 4, 3, 5] \n",
    "print(list(reversed(seqList))) \n"
   ]
  },
  {
   "cell_type": "code",
   "execution_count": 12,
   "metadata": {},
   "outputs": [
    {
     "name": "stdout",
     "output_type": "stream",
     "text": [
      "65 65\n"
     ]
    }
   ],
   "source": [
    "# ord() ----\n",
    "# The ord() method returns an integer representing Unicode code point for the given Unicode character.\n",
    "\n",
    "# inbuilt function return an \n",
    "# integer representing the Unicode code \n",
    "value = ord(\"A\") \n",
    "\n",
    "# # Raises Exception \n",
    "# value1 = ord('AB')   single character is allowed. \n",
    "\n",
    "\n",
    "# writing in ' ' gives the same result \n",
    "value1 = ord('A') \n",
    "\n",
    "# prints the unicode value \n",
    "print (value, value1 )\n",
    "\n",
    "\n"
   ]
  },
  {
   "cell_type": "markdown",
   "metadata": {},
   "source": [
    "There are many more methods than the ones covered here. Visit the Advanced String section to find out more!"
   ]
  },
  {
   "cell_type": "markdown",
   "metadata": {},
   "source": [
    "## Print Formatting\n",
    "\n",
    "We can use the .format() method to add formatted objects to printed string statements. \n",
    "\n",
    "The easiest way to show this is through an example:"
   ]
  },
  {
   "cell_type": "code",
   "execution_count": null,
   "metadata": {},
   "outputs": [],
   "source": [
    "'Insert another string with curly brackets: {}'.format('The inserted string')"
   ]
  },
  {
   "cell_type": "markdown",
   "metadata": {},
   "source": [
    "We will revisit this string formatting topic in later sections when we are building our projects!"
   ]
  },
  {
   "cell_type": "markdown",
   "metadata": {},
   "source": [
    "## Next up: Lists!"
   ]
  }
 ],
 "metadata": {
  "kernelspec": {
   "display_name": "Python 3",
   "language": "python",
   "name": "python3"
  },
  "language_info": {
   "codemirror_mode": {
    "name": "ipython",
    "version": 3
   },
   "file_extension": ".py",
   "mimetype": "text/x-python",
   "name": "python",
   "nbconvert_exporter": "python",
   "pygments_lexer": "ipython3",
   "version": "3.8.3"
  }
 },
 "nbformat": 4,
 "nbformat_minor": 1
}
